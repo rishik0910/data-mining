{
  "nbformat": 4,
  "nbformat_minor": 0,
  "metadata": {
    "colab": {
      "provenance": [],
      "authorship_tag": "ABX9TyO8YMurp3XdCg/vE0t7QhWE",
      "include_colab_link": true
    },
    "kernelspec": {
      "name": "python3",
      "display_name": "Python 3"
    },
    "language_info": {
      "name": "python"
    }
  },
  "cells": [
    {
      "cell_type": "markdown",
      "metadata": {
        "id": "view-in-github",
        "colab_type": "text"
      },
      "source": [
        "<a href=\"https://colab.research.google.com/github/rishik0910/data-mining/blob/main/EMP.ipynb\" target=\"_parent\"><img src=\"https://colab.research.google.com/assets/colab-badge.svg\" alt=\"Open In Colab\"/></a>"
      ]
    },
    {
      "cell_type": "code",
      "source": [
        "import pandas as pd"
      ],
      "metadata": {
        "id": "A2RKqsi3T2O2"
      },
      "execution_count": 13,
      "outputs": []
    },
    {
      "cell_type": "code",
      "source": [
        "from sklearn.preprocessing import MinMaxScaler"
      ],
      "metadata": {
        "id": "lDZGIDEFT5gY"
      },
      "execution_count": 14,
      "outputs": []
    },
    {
      "cell_type": "code",
      "source": [
        "file_path = ('/content/EMP_SAL.csv') # Update the path as needed"
      ],
      "metadata": {
        "id": "zY4FnnZFT7m7"
      },
      "execution_count": 15,
      "outputs": []
    },
    {
      "cell_type": "code",
      "source": [
        "df = pd.read_csv(file_path)"
      ],
      "metadata": {
        "id": "Iua9bVVqUOfL"
      },
      "execution_count": 17,
      "outputs": []
    },
    {
      "cell_type": "code",
      "source": [
        "print(\"Dataset Information:\")"
      ],
      "metadata": {
        "colab": {
          "base_uri": "https://localhost:8080/"
        },
        "id": "77TPy3VeUSHA",
        "outputId": "dc33ed8b-b0d2-4dc4-92f0-2b53a04a2ecb"
      },
      "execution_count": 18,
      "outputs": [
        {
          "output_type": "stream",
          "name": "stdout",
          "text": [
            "Dataset Information:\n"
          ]
        }
      ]
    },
    {
      "cell_type": "code",
      "source": [
        "print(df.info())\n"
      ],
      "metadata": {
        "colab": {
          "base_uri": "https://localhost:8080/"
        },
        "id": "6ZAAoeZ7UTrL",
        "outputId": "d796b154-3c4e-453a-ace4-313df7f399fd"
      },
      "execution_count": 19,
      "outputs": [
        {
          "output_type": "stream",
          "name": "stdout",
          "text": [
            "<class 'pandas.core.frame.DataFrame'>\n",
            "RangeIndex: 14 entries, 0 to 13\n",
            "Data columns (total 5 columns):\n",
            " #   Column     Non-Null Count  Dtype \n",
            "---  ------     --------------  ----- \n",
            " 0   DOB        14 non-null     object\n",
            " 1   BASIC_PAY  14 non-null     int64 \n",
            " 2   HRA        14 non-null     int64 \n",
            " 3   DA         14 non-null     int64 \n",
            " 4   TAX        14 non-null     int64 \n",
            "dtypes: int64(4), object(1)\n",
            "memory usage: 692.0+ bytes\n",
            "None\n"
          ]
        }
      ]
    },
    {
      "cell_type": "code",
      "source": [
        "print(\"\\nFirst Few Rows of the Dataset:\")"
      ],
      "metadata": {
        "colab": {
          "base_uri": "https://localhost:8080/"
        },
        "id": "i0BwxfigUXNg",
        "outputId": "6670c789-6bd5-418e-e0af-95c5a4cbbac4"
      },
      "execution_count": 20,
      "outputs": [
        {
          "output_type": "stream",
          "name": "stdout",
          "text": [
            "\n",
            "First Few Rows of the Dataset:\n"
          ]
        }
      ]
    },
    {
      "cell_type": "code",
      "source": [
        "print(df.head())"
      ],
      "metadata": {
        "colab": {
          "base_uri": "https://localhost:8080/"
        },
        "id": "6X5Q-TleUbs-",
        "outputId": "134721cd-84b8-446a-e465-79c5429bc8de"
      },
      "execution_count": 21,
      "outputs": [
        {
          "output_type": "stream",
          "name": "stdout",
          "text": [
            "          DOB  BASIC_PAY    HRA    DA   TAX\n",
            "0  07-03-2004      75000  12500  5200  4500\n",
            "1  10-03-2002      79500  13200  5600  5000\n",
            "2  12-03-2000      84000  13900  6000  5500\n",
            "3  15-03-1998      88500  14600  6400  6000\n",
            "4  17-03-1996      93000  15300  6800  6500\n"
          ]
        }
      ]
    },
    {
      "cell_type": "code",
      "source": [
        "print(\"\\nMissing Values in Each Column:\")"
      ],
      "metadata": {
        "colab": {
          "base_uri": "https://localhost:8080/"
        },
        "id": "Uc3YbY1OUe1_",
        "outputId": "eda618f2-1665-4f8d-87d8-ef5b5e33333b"
      },
      "execution_count": 22,
      "outputs": [
        {
          "output_type": "stream",
          "name": "stdout",
          "text": [
            "\n",
            "Missing Values in Each Column:\n"
          ]
        }
      ]
    },
    {
      "cell_type": "code",
      "source": [
        "print(df.isnull().sum())"
      ],
      "metadata": {
        "colab": {
          "base_uri": "https://localhost:8080/"
        },
        "id": "egyYBmPbUh4d",
        "outputId": "85a018a3-d99e-45c5-a52f-a8835b26c704"
      },
      "execution_count": 23,
      "outputs": [
        {
          "output_type": "stream",
          "name": "stdout",
          "text": [
            "DOB          0\n",
            "BASIC_PAY    0\n",
            "HRA          0\n",
            "DA           0\n",
            "TAX          0\n",
            "dtype: int64\n"
          ]
        }
      ]
    },
    {
      "cell_type": "code",
      "source": [
        "numerical_cols = [\"BASIC_PAY\", \"HRA\", \"DA\", \"TAX\"]"
      ],
      "metadata": {
        "id": "k9cpo3rHUlMR"
      },
      "execution_count": 24,
      "outputs": []
    },
    {
      "cell_type": "code",
      "source": [
        "scaler = MinMaxScaler()"
      ],
      "metadata": {
        "id": "iPPUqFjMUpYT"
      },
      "execution_count": 25,
      "outputs": []
    },
    {
      "cell_type": "code",
      "source": [
        "df_scaled = df.copy() # Create a copy to preserve original data"
      ],
      "metadata": {
        "id": "zEQ12oyqUsT-"
      },
      "execution_count": 26,
      "outputs": []
    },
    {
      "cell_type": "code",
      "source": [
        "df_scaled[numerical_cols] = scaler.fit_transform(df[numerical_cols])"
      ],
      "metadata": {
        "id": "UV9paNZSUvN0"
      },
      "execution_count": 27,
      "outputs": []
    },
    {
      "cell_type": "code",
      "source": [
        "print(\"\\nFirst Few Rows After Min-Max Scaling:\")"
      ],
      "metadata": {
        "colab": {
          "base_uri": "https://localhost:8080/"
        },
        "id": "Z1d_1V-PUxwc",
        "outputId": "11d97643-30c5-4507-c167-51e3d0d2b001"
      },
      "execution_count": 28,
      "outputs": [
        {
          "output_type": "stream",
          "name": "stdout",
          "text": [
            "\n",
            "First Few Rows After Min-Max Scaling:\n"
          ]
        }
      ]
    },
    {
      "cell_type": "code",
      "source": [
        "print(df_scaled.head())"
      ],
      "metadata": {
        "colab": {
          "base_uri": "https://localhost:8080/"
        },
        "id": "m-KoEWWKU1RB",
        "outputId": "59a3a3d5-0a92-4632-f43d-782421249b25"
      },
      "execution_count": 29,
      "outputs": [
        {
          "output_type": "stream",
          "name": "stdout",
          "text": [
            "          DOB  BASIC_PAY       HRA        DA       TAX\n",
            "0  07-03-2004   0.000000  0.000000  0.000000  0.000000\n",
            "1  10-03-2002   0.076923  0.076923  0.076923  0.076923\n",
            "2  12-03-2000   0.153846  0.153846  0.153846  0.153846\n",
            "3  15-03-1998   0.230769  0.230769  0.230769  0.230769\n",
            "4  17-03-1996   0.307692  0.307692  0.307692  0.307692\n"
          ]
        }
      ]
    },
    {
      "cell_type": "code",
      "source": [
        "output_file = \"EMP_SAL_processed.csv\""
      ],
      "metadata": {
        "id": "5FCneOhaU4Iv"
      },
      "execution_count": 30,
      "outputs": []
    },
    {
      "cell_type": "code",
      "source": [
        "df_scaled.to_csv(output_file, index=False)\n"
      ],
      "metadata": {
        "id": "vDzFyXv5U_Qq"
      },
      "execution_count": 31,
      "outputs": []
    },
    {
      "cell_type": "code",
      "source": [
        "print(f\"\\nProcessed dataset saved as: {output_file}\")"
      ],
      "metadata": {
        "colab": {
          "base_uri": "https://localhost:8080/"
        },
        "id": "WANFCCVTVAfV",
        "outputId": "5501f818-dded-4743-8420-d8d7b158ed85"
      },
      "execution_count": 32,
      "outputs": [
        {
          "output_type": "stream",
          "name": "stdout",
          "text": [
            "\n",
            "Processed dataset saved as: EMP_SAL_processed.csv\n"
          ]
        }
      ]
    },
    {
      "cell_type": "code",
      "source": [
        "print(df_scaled.head())"
      ],
      "metadata": {
        "colab": {
          "base_uri": "https://localhost:8080/"
        },
        "id": "UEQwAiPwVEmS",
        "outputId": "d1ee26dd-685e-4fbf-aaff-04f2ee310515"
      },
      "execution_count": 33,
      "outputs": [
        {
          "output_type": "stream",
          "name": "stdout",
          "text": [
            "          DOB  BASIC_PAY       HRA        DA       TAX\n",
            "0  07-03-2004   0.000000  0.000000  0.000000  0.000000\n",
            "1  10-03-2002   0.076923  0.076923  0.076923  0.076923\n",
            "2  12-03-2000   0.153846  0.153846  0.153846  0.153846\n",
            "3  15-03-1998   0.230769  0.230769  0.230769  0.230769\n",
            "4  17-03-1996   0.307692  0.307692  0.307692  0.307692\n"
          ]
        }
      ]
    },
    {
      "cell_type": "code",
      "source": [
        "print(df_scaled.head(20)) # Displays the first 20 rows\n"
      ],
      "metadata": {
        "colab": {
          "base_uri": "https://localhost:8080/"
        },
        "id": "BZrTVn3AVGa3",
        "outputId": "18e29b4f-12a9-44d6-fe48-664d6953c3db"
      },
      "execution_count": 34,
      "outputs": [
        {
          "output_type": "stream",
          "name": "stdout",
          "text": [
            "           DOB  BASIC_PAY       HRA        DA       TAX\n",
            "0   07-03-2004   0.000000  0.000000  0.000000  0.000000\n",
            "1   10-03-2002   0.076923  0.076923  0.076923  0.076923\n",
            "2   12-03-2000   0.153846  0.153846  0.153846  0.153846\n",
            "3   15-03-1998   0.230769  0.230769  0.230769  0.230769\n",
            "4   17-03-1996   0.307692  0.307692  0.307692  0.307692\n",
            "5   20-03-1994   0.384615  0.384615  0.384615  0.384615\n",
            "6   22-03-1992   0.461538  0.461538  0.461538  0.461538\n",
            "7   25-03-1990   0.538462  0.538462  0.538462  0.538462\n",
            "8   27-03-1988   0.615385  0.615385  0.615385  0.615385\n",
            "9   30-03-1986   0.692308  0.692308  0.692308  0.692308\n",
            "10  01-04-1984   0.769231  0.769231  0.769231  0.769231\n",
            "11  04-04-1982   0.846154  0.846154  0.846154  0.846154\n",
            "12  06-04-1980   0.923077  0.923077  0.923077  0.923077\n",
            "13  09-04-1978   1.000000  1.000000  1.000000  1.000000\n"
          ]
        }
      ]
    },
    {
      "cell_type": "code",
      "source": [
        "print(df_scaled)"
      ],
      "metadata": {
        "colab": {
          "base_uri": "https://localhost:8080/"
        },
        "id": "PDl7QR-lVLIp",
        "outputId": "4ac54826-e062-4ddd-9065-3e158b0669f7"
      },
      "execution_count": 35,
      "outputs": [
        {
          "output_type": "stream",
          "name": "stdout",
          "text": [
            "           DOB  BASIC_PAY       HRA        DA       TAX\n",
            "0   07-03-2004   0.000000  0.000000  0.000000  0.000000\n",
            "1   10-03-2002   0.076923  0.076923  0.076923  0.076923\n",
            "2   12-03-2000   0.153846  0.153846  0.153846  0.153846\n",
            "3   15-03-1998   0.230769  0.230769  0.230769  0.230769\n",
            "4   17-03-1996   0.307692  0.307692  0.307692  0.307692\n",
            "5   20-03-1994   0.384615  0.384615  0.384615  0.384615\n",
            "6   22-03-1992   0.461538  0.461538  0.461538  0.461538\n",
            "7   25-03-1990   0.538462  0.538462  0.538462  0.538462\n",
            "8   27-03-1988   0.615385  0.615385  0.615385  0.615385\n",
            "9   30-03-1986   0.692308  0.692308  0.692308  0.692308\n",
            "10  01-04-1984   0.769231  0.769231  0.769231  0.769231\n",
            "11  04-04-1982   0.846154  0.846154  0.846154  0.846154\n",
            "12  06-04-1980   0.923077  0.923077  0.923077  0.923077\n",
            "13  09-04-1978   1.000000  1.000000  1.000000  1.000000\n"
          ]
        }
      ]
    },
    {
      "cell_type": "code",
      "source": [
        "print(df_scaled.describe())"
      ],
      "metadata": {
        "colab": {
          "base_uri": "https://localhost:8080/"
        },
        "id": "hFKzhbdPVOQ2",
        "outputId": "c6611967-df2a-4da8-9ead-986b027508e1"
      },
      "execution_count": 36,
      "outputs": [
        {
          "output_type": "stream",
          "name": "stdout",
          "text": [
            "       BASIC_PAY        HRA         DA        TAX\n",
            "count  14.000000  14.000000  14.000000  14.000000\n",
            "mean    0.500000   0.500000   0.500000   0.500000\n",
            "std     0.321792   0.321792   0.321792   0.321792\n",
            "min     0.000000   0.000000   0.000000   0.000000\n",
            "25%     0.250000   0.250000   0.250000   0.250000\n",
            "50%     0.500000   0.500000   0.500000   0.500000\n",
            "75%     0.750000   0.750000   0.750000   0.750000\n",
            "max     1.000000   1.000000   1.000000   1.000000\n"
          ]
        }
      ]
    }
  ]
}